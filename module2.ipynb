{
 "cells": [
  {
   "cell_type": "code",
   "execution_count": 1,
   "id": "579902a6-7aea-401c-8b16-21a6a42daa1f",
   "metadata": {},
   "outputs": [
    {
     "name": "stdout",
     "output_type": "stream",
     "text": [
      "Too high!\n"
     ]
    }
   ],
   "source": [
    "#4.1\n",
    "import random\n",
    "\n",
    "secret = random.randint(1, 10)\n",
    "guess = random.randint(1, 10)\n",
    "\n",
    "if guess < secret:\n",
    "    print('Too low!')\n",
    "elif guess > secret:\n",
    "    print('Too high!')\n",
    "else:\n",
    "    print('Correct!')"
   ]
  },
  {
   "cell_type": "code",
   "execution_count": 4,
   "id": "83c259c7-5e3b-4b2c-942c-dc7c20fa1101",
   "metadata": {},
   "outputs": [
    {
     "name": "stdout",
     "output_type": "stream",
     "text": [
      "watermelon\n"
     ]
    }
   ],
   "source": [
    "#4.2\n",
    "small = False\n",
    "green = True\n",
    "\n",
    "if small and green:\n",
    "    print('pea')\n",
    "elif small and not green:\n",
    "    print('cherry')\n",
    "elif not small and green:\n",
    "    print('watermelon')\n",
    "else:\n",
    "    print('pumpkin')"
   ]
  },
  {
   "cell_type": "code",
   "execution_count": null,
   "id": "32c6b012-cc9f-406e-95d7-7e443385c878",
   "metadata": {},
   "outputs": [],
   "source": [
    "#6.1\n",
    "numbers = [3, 2, 1, 0]\n",
    "\n",
    "for number in numbers:\n",
    "    print(number)"
   ]
  },
  {
   "cell_type": "code",
   "execution_count": null,
   "id": "04867f1d-e17d-4c33-8d93-e65db4e2c8f6",
   "metadata": {},
   "outputs": [],
   "source": [
    "#6.2\n",
    "guess_me = 7\n",
    "number = 1\n",
    "\n",
    "while True:\n",
    "    if number < guess_me:\n",
    "        print('Too low.')\n",
    "    elif number == guess_me:\n",
    "        print('Found it!')\n",
    "        break\n",
    "    else:\n",
    "        print('Oops.')\n",
    "        break\n",
    "    number += 1"
   ]
  },
  {
   "cell_type": "code",
   "execution_count": null,
   "id": "bbc09496-2914-418c-a329-54bcd8506c53",
   "metadata": {},
   "outputs": [],
   "source": [
    "#6.3\n",
    "guess_me = 5\n",
    "\n",
    "for number in range(10):\n",
    "    if number < guess_me:\n",
    "        print('Too low.')\n",
    "    elif number == guess_me:\n",
    "        print('Found it!')\n",
    "        break\n",
    "    else: \n",
    "        print('Oops.')\n",
    "        break\n"
   ]
  }
 ],
 "metadata": {
  "kernelspec": {
   "display_name": "Python 3 (ipykernel)",
   "language": "python",
   "name": "python3"
  },
  "language_info": {
   "codemirror_mode": {
    "name": "ipython",
    "version": 3
   },
   "file_extension": ".py",
   "mimetype": "text/x-python",
   "name": "python",
   "nbconvert_exporter": "python",
   "pygments_lexer": "ipython3",
   "version": "3.12.4"
  }
 },
 "nbformat": 4,
 "nbformat_minor": 5
}
