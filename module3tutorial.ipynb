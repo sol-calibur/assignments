{
 "cells": [
  {
   "cell_type": "code",
   "execution_count": null,
   "metadata": {},
   "outputs": [],
   "source": [
    "#geeks for geeks array sort 0,1,2\n",
    "class Solution:\n",
    "    # Function to sort an array of 0s, 1s, and 2s\n",
    "    def sort012(self, arr):\n",
    "        count = [0] * 3\n",
    "        \n",
    "        for num in arr:\n",
    "            count[num] += 1\n",
    "            \n",
    "        index = 0\n",
    "        for i in range(3):\n",
    "            for j in range(count[i]):\n",
    "                arr[index] = i\n",
    "                index += 1\n",
    "        \n",
    "        return arr"
   ]
  },
  {
   "cell_type": "code",
   "execution_count": null,
   "metadata": {},
   "outputs": [],
   "source": [
    "#geeks for geeks binary search\n",
    "def binary_search(self, arr, k):\n",
    "    left, right = 0, len(arr) - 1\n",
    "    \n",
    "    while left <= right:\n",
    "        mid = left + (right - left) // 2\n",
    "        \n",
    "        if arr[mid] == k:\n",
    "            return mid\n",
    "        elif arr[mid] < k:\n",
    "            left = mid + 1\n",
    "        else:\n",
    "            right = mid - 1\n",
    "    \n",
    "    return -1"
   ]
  }
 ],
 "metadata": {
  "language_info": {
   "name": "python"
  }
 },
 "nbformat": 4,
 "nbformat_minor": 2
}
