{
 "cells": [
  {
   "cell_type": "code",
   "execution_count": null,
   "metadata": {},
   "outputs": [],
   "source": [
    "# 11.1 - zoo.py\n",
    "def hours():\n",
    "    print(\"Open 9-5 daily\")"
   ]
  },
  {
   "cell_type": "code",
   "execution_count": null,
   "metadata": {},
   "outputs": [],
   "source": [
    "# 11.2 - menagerie?\n",
    "import zoo as menagerie\n",
    "menagerie.hours()"
   ]
  },
  {
   "cell_type": "code",
   "execution_count": null,
   "metadata": {},
   "outputs": [],
   "source": [
    "# 16.8 - absolutely displeasurable \n",
    "\n",
    "import sqlalchemy\n",
    "\n",
    "#create a FAKE engine for a FAKE database\n",
    "engine = create_engine('sqlite:///books.db')\n",
    "connection = engine.connect()\n",
    "\n",
    "#get the FAKE book table from the FAKE database\n",
    "bookdata = BookData()\n",
    "book_table = Table('book', bookdata)\n",
    "\n",
    "#select a FAKE title column that i DID NOT create based on the csv file in the assignment that we were only PARTIALLY assigned\n",
    "stmt = select(book_table.c.title).order_by(book_table.c.title)\n",
    "\n",
    "#do the FAKE query for FAKE results\n",
    "results = connection.execute(stmt).fetchall()\n",
    "\n",
    "#print the FAKE titles\n",
    "for row in results:\n",
    "    print(row.title)\n",
    "\n",
    "#close the FAKE connection\n",
    "connection.close()\n",
    "\n",
    "#i'm not going to complete 16.1 through 16.7 just to test this code. god bless"
   ]
  }
 ],
 "metadata": {
  "language_info": {
   "name": "python"
  }
 },
 "nbformat": 4,
 "nbformat_minor": 2
}
